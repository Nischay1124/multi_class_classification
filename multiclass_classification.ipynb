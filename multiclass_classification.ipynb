{
  "nbformat": 4,
  "nbformat_minor": 0,
  "metadata": {
    "colab": {
      "provenance": []
    },
    "kernelspec": {
      "name": "python3",
      "display_name": "Python 3"
    },
    "language_info": {
      "name": "python"
    },
    "accelerator": "GPU",
    "gpuClass": "standard"
  },
  "cells": [
    {
      "cell_type": "markdown",
      "source": [
        "## Team : Intern Techno\n",
        "We have used Google colab, so our file path names will be according to that."
      ],
      "metadata": {
        "id": "THJc0c2LuYkg"
      }
    },
    {
      "cell_type": "code",
      "execution_count": 1,
      "metadata": {
        "id": "gbPzyTIOuSXs"
      },
      "outputs": [],
      "source": [
        "import numpy as np\n",
        "def load_numpy_array_from_file(filename):\n",
        "    array = np.load(filename)\n",
        "    return array"
      ]
    },
    {
      "cell_type": "code",
      "source": [
        "clock_array = load_numpy_array_from_file(\"/content/alarm clock.npy\")#0\n",
        "angel_array = load_numpy_array_from_file(\"/content/angel.npy\")#1\n",
        "apple_array = load_numpy_array_from_file(\"/content/apple.npy\")#2\n",
        "arm_array = load_numpy_array_from_file(\"/content/arm.npy\")#3\n",
        "baseball_bat_array = load_numpy_array_from_file(\"/content/baseball bat.npy\")#4\n",
        "baseball_array = load_numpy_array_from_file(\"/content/baseball.npy\")#5\n",
        "bed_array = load_numpy_array_from_file(\"/content/bed.npy\")#6\n",
        "book_array = load_numpy_array_from_file(\"/content/book.npy\")#7\n",
        "cake_array = load_numpy_array_from_file(\"/content/cake.npy\")#8\n",
        "face_array = load_numpy_array_from_file(\"/content/face.npy\")#9"
      ],
      "metadata": {
        "id": "F_49rHelwQ_Q"
      },
      "execution_count": 2,
      "outputs": []
    },
    {
      "cell_type": "code",
      "source": [
        "print(clock_array.shape)\n",
        "print(angel_array.shape)\n",
        "print(apple_array.shape)\n",
        "print(arm_array.shape)\n",
        "print(baseball_bat_array.shape)\n",
        "print(baseball_array.shape)\n",
        "print(bed_array.shape)\n",
        "print(book_array.shape)\n",
        "print(cake_array.shape)\n",
        "print(face_array.shape)"
      ],
      "metadata": {
        "colab": {
          "base_uri": "https://localhost:8080/"
        },
        "id": "LJ65Qi-uwU_-",
        "outputId": "7f78d7b9-e30b-4309-c236-764a5e4090ed"
      },
      "execution_count": 3,
      "outputs": [
        {
          "output_type": "stream",
          "name": "stdout",
          "text": [
            "(10000, 784)\n",
            "(10000, 784)\n",
            "(10000, 784)\n",
            "(10000, 784)\n",
            "(10000, 784)\n",
            "(10000, 784)\n",
            "(10000, 784)\n",
            "(10000, 784)\n",
            "(10000, 784)\n",
            "(10000, 784)\n"
          ]
        }
      ]
    },
    {
      "cell_type": "code",
      "source": [
        "#Now reshaping each numpy array\n",
        "clock_array = clock_array.reshape(clock_array.shape[0], 28, 28, 1)\n",
        "angel_array = angel_array.reshape(angel_array.shape[0], 28, 28, 1)\n",
        "apple_array = apple_array.reshape(apple_array.shape[0], 28, 28, 1)\n",
        "arm_array = arm_array.reshape(arm_array.shape[0], 28, 28, 1)\n",
        "baseball_bat_array = baseball_bat_array.reshape(baseball_bat_array.shape[0], 28, 28, 1)\n",
        "baseball_array = baseball_array.reshape(baseball_array.shape[0], 28, 28, 1)\n",
        "bed_array = bed_array.reshape(bed_array.shape[0], 28, 28, 1) \n",
        "book_array = book_array.reshape(book_array.shape[0], 28, 28, 1)\n",
        "cake_array = cake_array.reshape(cake_array.shape[0], 28, 28, 1)\n",
        "face_array = face_array.reshape(face_array.shape[0], 28, 28, 1)"
      ],
      "metadata": {
        "id": "BYrayXF-wgPF"
      },
      "execution_count": 4,
      "outputs": []
    },
    {
      "cell_type": "code",
      "source": [
        "classes=[\"clock\",\"angel\",\"apple\",\"arm\",\"baseball_bat\",\"baseball\",\"bed\",\"book\",\"cake\",\"face\"]\n",
        "train_data = np.concatenate((clock_array, angel_array , apple_array, arm_array, baseball_bat_array, baseball_array, bed_array, book_array, cake_array, face_array), axis=0)\n",
        "train_data = train_data.astype('float32')\n",
        "train_data /= 255.0\n",
        "train_data.shape"
      ],
      "metadata": {
        "colab": {
          "base_uri": "https://localhost:8080/"
        },
        "id": "FZlbefIOyGHy",
        "outputId": "d956e332-adf6-4e81-ae5e-64c2d4c4da94"
      },
      "execution_count": 5,
      "outputs": [
        {
          "output_type": "execute_result",
          "data": {
            "text/plain": [
              "(100000, 28, 28, 1)"
            ]
          },
          "metadata": {},
          "execution_count": 5
        }
      ]
    },
    {
      "cell_type": "code",
      "source": [
        "#Now creating labels for our data\n",
        "train_labels_list = [np.full((10000,), i) for i in range(10)]\n",
        "train_labels = np.concatenate(train_labels_list)\n"
      ],
      "metadata": {
        "id": "snr-2VOdyiKo"
      },
      "execution_count": 6,
      "outputs": []
    },
    {
      "cell_type": "code",
      "source": [
        "import tensorflow as tf\n",
        "from tensorflow import keras\n",
        "from tensorflow.keras.utils import to_categorical\n",
        "train_labels = to_categorical(train_labels, num_classes=10)"
      ],
      "metadata": {
        "id": "kpkYPM_c_RzD"
      },
      "execution_count": 7,
      "outputs": []
    },
    {
      "cell_type": "code",
      "source": [
        "#Now splitting our Dataset\n",
        "from sklearn.model_selection import train_test_split\n",
        "x_train, x_test, y_train, y_test = train_test_split(train_data, train_labels, test_size=0.2, random_state=42)"
      ],
      "metadata": {
        "id": "Q_rmhXny590S"
      },
      "execution_count": 8,
      "outputs": []
    },
    {
      "cell_type": "code",
      "source": [
        "#Now for faster training we will convert our numpy arrays into tensors\n",
        "import tensorflow as tf\n",
        "x_train = tf.convert_to_tensor(x_train)\n",
        "x_test = tf.convert_to_tensor(x_test)"
      ],
      "metadata": {
        "id": "W7FHAWqs6Qco"
      },
      "execution_count": 9,
      "outputs": []
    },
    {
      "cell_type": "code",
      "source": [
        "#Making the model\n",
        "model = tf.keras.Sequential([\n",
        "    tf.keras.layers.Conv2D(16,(3,3),activation = \"relu\",input_shape = (28,28,1)),\n",
        "    tf.keras.layers.MaxPooling2D(2),\n",
        "    tf.keras.layers.Conv2D(32, (3,3), activation='relu'),\n",
        "    tf.keras.layers.MaxPooling2D((2,2)),\n",
        "    tf.keras.layers.Conv2D(64, (3,3), activation='relu'),\n",
        "    tf.keras.layers.Flatten(),\n",
        "    tf.keras.layers.Dense(64, activation='relu'),\n",
        "    tf.keras.layers.Dense(10, activation='softmax')\n",
        "])"
      ],
      "metadata": {
        "id": "CvhO00Q76uku"
      },
      "execution_count": 10,
      "outputs": []
    },
    {
      "cell_type": "code",
      "source": [
        "#Compiling the model\n",
        "model.compile(optimizer=tf.keras.optimizers.Adam(), loss='categorical_crossentropy', metrics=['accuracy'])"
      ],
      "metadata": {
        "id": "xfMtH_Ma7_U5"
      },
      "execution_count": 11,
      "outputs": []
    },
    {
      "cell_type": "code",
      "source": [
        "#Getting the summary of our model\n",
        "model.summary()"
      ],
      "metadata": {
        "colab": {
          "base_uri": "https://localhost:8080/"
        },
        "id": "467486YM-uAM",
        "outputId": "08ab9f73-b06c-4c8d-aca5-f136ccf8002b"
      },
      "execution_count": 12,
      "outputs": [
        {
          "output_type": "stream",
          "name": "stdout",
          "text": [
            "Model: \"sequential\"\n",
            "_________________________________________________________________\n",
            " Layer (type)                Output Shape              Param #   \n",
            "=================================================================\n",
            " conv2d (Conv2D)             (None, 26, 26, 16)        160       \n",
            "                                                                 \n",
            " max_pooling2d (MaxPooling2D  (None, 13, 13, 16)       0         \n",
            " )                                                               \n",
            "                                                                 \n",
            " conv2d_1 (Conv2D)           (None, 11, 11, 32)        4640      \n",
            "                                                                 \n",
            " max_pooling2d_1 (MaxPooling  (None, 5, 5, 32)         0         \n",
            " 2D)                                                             \n",
            "                                                                 \n",
            " conv2d_2 (Conv2D)           (None, 3, 3, 64)          18496     \n",
            "                                                                 \n",
            " flatten (Flatten)           (None, 576)               0         \n",
            "                                                                 \n",
            " dense (Dense)               (None, 64)                36928     \n",
            "                                                                 \n",
            " dense_1 (Dense)             (None, 10)                650       \n",
            "                                                                 \n",
            "=================================================================\n",
            "Total params: 60,874\n",
            "Trainable params: 60,874\n",
            "Non-trainable params: 0\n",
            "_________________________________________________________________\n"
          ]
        }
      ]
    },
    {
      "cell_type": "code",
      "source": [
        "checkpoint_path = \"InternTechno_model_checkpoint\"\n",
        "checkpoint_callback = tf.keras.callbacks.ModelCheckpoint(checkpoint_path,\n",
        "                                                         save_weights_only=True, # save only the model weights\n",
        "                                                         monitor=\"val_accuracy\", # save the model weights which score the best validation accuracy\n",
        "                                                         save_best_only=True) # only keep the best model weights on file (delete the rest)"
      ],
      "metadata": {
        "id": "bhrGg8CZAZFL"
      },
      "execution_count": 13,
      "outputs": []
    },
    {
      "cell_type": "code",
      "source": [
        "#Fitting the model\n",
        "history = model.fit(x_train,y_train, epochs=10,validation_data=(x_test, y_test),callbacks=[checkpoint_callback])"
      ],
      "metadata": {
        "colab": {
          "base_uri": "https://localhost:8080/"
        },
        "id": "ScXBi_IQ8A7A",
        "outputId": "19243d92-c8f2-4103-b9a2-0c6a8edc0a77"
      },
      "execution_count": 15,
      "outputs": [
        {
          "output_type": "stream",
          "name": "stdout",
          "text": [
            "Epoch 1/10\n",
            "2500/2500 [==============================] - 26s 5ms/step - loss: 0.5462 - accuracy: 0.8303 - val_loss: 0.3592 - val_accuracy: 0.8916\n",
            "Epoch 2/10\n",
            "2500/2500 [==============================] - 12s 5ms/step - loss: 0.3257 - accuracy: 0.9004 - val_loss: 0.3350 - val_accuracy: 0.8975\n",
            "Epoch 3/10\n",
            "2500/2500 [==============================] - 12s 5ms/step - loss: 0.2725 - accuracy: 0.9159 - val_loss: 0.2794 - val_accuracy: 0.9148\n",
            "Epoch 4/10\n",
            "2500/2500 [==============================] - 13s 5ms/step - loss: 0.2345 - accuracy: 0.9275 - val_loss: 0.2714 - val_accuracy: 0.9161\n",
            "Epoch 5/10\n",
            "2500/2500 [==============================] - 12s 5ms/step - loss: 0.2099 - accuracy: 0.9344 - val_loss: 0.2730 - val_accuracy: 0.9200\n",
            "Epoch 6/10\n",
            "2500/2500 [==============================] - 12s 5ms/step - loss: 0.1872 - accuracy: 0.9405 - val_loss: 0.2692 - val_accuracy: 0.9213\n",
            "Epoch 7/10\n",
            "2500/2500 [==============================] - 13s 5ms/step - loss: 0.1687 - accuracy: 0.9467 - val_loss: 0.2709 - val_accuracy: 0.9183\n",
            "Epoch 8/10\n",
            "2500/2500 [==============================] - 12s 5ms/step - loss: 0.1520 - accuracy: 0.9513 - val_loss: 0.2649 - val_accuracy: 0.9238\n",
            "Epoch 9/10\n",
            "2500/2500 [==============================] - 12s 5ms/step - loss: 0.1373 - accuracy: 0.9551 - val_loss: 0.2943 - val_accuracy: 0.9179\n",
            "Epoch 10/10\n",
            "2500/2500 [==============================] - 12s 5ms/step - loss: 0.1230 - accuracy: 0.9598 - val_loss: 0.2874 - val_accuracy: 0.9226\n"
          ]
        }
      ]
    },
    {
      "cell_type": "code",
      "source": [
        "#Now we'll plot the loss graph for training and testing data\n",
        "import matplotlib.pyplot as plt\n",
        "epochs = range(len(history.history['loss']))\n",
        "loss = history.history['loss']\n",
        "val_loss = history.history['val_loss']\n",
        "plt.plot(epochs, loss, label='training_loss')\n",
        "plt.plot(epochs, val_loss, label='val_loss')\n",
        "plt.title('Loss')\n",
        "plt.xlabel('Epochs')\n",
        "plt.legend()"
      ],
      "metadata": {
        "colab": {
          "base_uri": "https://localhost:8080/",
          "height": 489
        },
        "id": "FpAN3UGi-CDy",
        "outputId": "ba7ae6db-2cc5-4668-86f5-30b3c7057d77"
      },
      "execution_count": 16,
      "outputs": [
        {
          "output_type": "execute_result",
          "data": {
            "text/plain": [
              "<matplotlib.legend.Legend at 0x7fe58d2c23a0>"
            ]
          },
          "metadata": {},
          "execution_count": 16
        },
        {
          "output_type": "display_data",
          "data": {
            "text/plain": [
              "<Figure size 640x480 with 1 Axes>"
            ],
            "image/png": "[encoded data removed]"
          },
          "metadata": {}
        }
      ]
    },
    {
      "cell_type": "code",
      "source": [
        "#Now we'll plot the accuracy graph for training and testing data\n",
        "accuracy = history.history['accuracy']\n",
        "val_accuracy = history.history['val_accuracy']\n",
        "plt.figure()\n",
        "plt.plot(epochs, accuracy, label='training_accuracy')\n",
        "plt.plot(epochs, val_accuracy, label='val_accuracy')\n",
        "plt.title('Accuracy')\n",
        "plt.xlabel('Epochs')\n",
        "plt.legend();"
      ],
      "metadata": {
        "colab": {
          "base_uri": "https://localhost:8080/",
          "height": 472
        },
        "id": "eGl1EFoI-dz8",
        "outputId": "434c371f-c1c4-42cc-dcd5-8f7abea700d1"
      },
      "execution_count": 17,
      "outputs": [
        {
          "output_type": "display_data",
          "data": {
            "text/plain": [
              "<Figure size 640x480 with 1 Axes>"
            ],
            "image/png": "[encoded data removed]"
          },
          "metadata": {}
        }
      ]
    },
    {
      "cell_type": "code",
      "source": [
        "#Saving the model\n",
        "model.save(\"InternTechno_Model.h5\")"
      ],
      "metadata": {
        "id": "g3gRhzqb-zQX"
      },
      "execution_count": 18,
      "outputs": []
    },
    {
      "cell_type": "code",
      "source": [],
      "metadata": {
        "id": "S1stV-pnCXB2"
      },
      "execution_count": null,
      "outputs": []
    }
  ]
}